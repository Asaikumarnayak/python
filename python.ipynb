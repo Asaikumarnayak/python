{
  "nbformat": 4,
  "nbformat_minor": 0,
  "metadata": {
    "colab": {
      "name": "python.ipynb",
      "provenance": [],
      "collapsed_sections": []
    },
    "kernelspec": {
      "name": "python3",
      "display_name": "Python 3"
    },
    "language_info": {
      "name": "python"
    }
  },
  "cells": [
    {
      "cell_type": "code",
      "metadata": {
        "id": "Y7LPi51RNIVk"
      },
      "source": [
        "k=[j for j in range(3)]"
      ],
      "execution_count": null,
      "outputs": []
    },
    {
      "cell_type": "code",
      "metadata": {
        "colab": {
          "base_uri": "https://localhost:8080/"
        },
        "id": "y6Zz1-DPNMY8",
        "outputId": "b9b0e56d-0775-40ed-ed4a-623740d1bc0b"
      },
      "source": [
        "k"
      ],
      "execution_count": null,
      "outputs": [
        {
          "output_type": "execute_result",
          "data": {
            "text/plain": [
              "[0, 1, 2]"
            ]
          },
          "metadata": {
            "tags": []
          },
          "execution_count": 4
        }
      ]
    },
    {
      "cell_type": "code",
      "metadata": {
        "id": "Y7bdkbEzGo8V"
      },
      "source": [
        "#python tokens\n",
        "#smallest meaningful component in program like keywords,identifers,literals,operators\n",
        "#identifers are the name used for the variable,function orobjects\n",
        "#literals are constants in python ex:str=\"hello world\"\n"
      ],
      "execution_count": null,
      "outputs": []
    },
    {
      "cell_type": "code",
      "metadata": {
        "id": "omoFhhSIKcqz"
      },
      "source": [
        "#tuples are immutable\n",
        "t=(\"sai\",24)"
      ],
      "execution_count": null,
      "outputs": []
    },
    {
      "cell_type": "code",
      "metadata": {
        "colab": {
          "base_uri": "https://localhost:8080/"
        },
        "id": "yYrXjWrbKpkV",
        "outputId": "b0f66e02-d45c-4015-863a-04d1a3aef76c"
      },
      "source": [
        "t"
      ],
      "execution_count": null,
      "outputs": [
        {
          "output_type": "execute_result",
          "data": {
            "text/plain": [
              "('sai', 24)"
            ]
          },
          "metadata": {
            "tags": []
          },
          "execution_count": 46
        }
      ]
    },
    {
      "cell_type": "code",
      "metadata": {
        "colab": {
          "base_uri": "https://localhost:8080/"
        },
        "id": "-TXcawWSKrKL",
        "outputId": "6e958c72-4ca4-4543-d681-277586d61fc9"
      },
      "source": [
        "t[-1]"
      ],
      "execution_count": null,
      "outputs": [
        {
          "output_type": "execute_result",
          "data": {
            "text/plain": [
              "24"
            ]
          },
          "metadata": {
            "tags": []
          },
          "execution_count": 47
        }
      ]
    },
    {
      "cell_type": "code",
      "metadata": {
        "colab": {
          "base_uri": "https://localhost:8080/"
        },
        "id": "OZB2wsh3LFIa",
        "outputId": "ebfaa0f9-91e6-4a1d-ce84-a42d98ba9af0"
      },
      "source": [
        "len(t)"
      ],
      "execution_count": null,
      "outputs": [
        {
          "output_type": "execute_result",
          "data": {
            "text/plain": [
              "2"
            ]
          },
          "metadata": {
            "tags": []
          },
          "execution_count": 48
        }
      ]
    },
    {
      "cell_type": "code",
      "metadata": {
        "id": "Qho5sv7KLFTc"
      },
      "source": [
        "t1=(\"kumar\",30)"
      ],
      "execution_count": null,
      "outputs": []
    },
    {
      "cell_type": "code",
      "metadata": {
        "colab": {
          "base_uri": "https://localhost:8080/"
        },
        "id": "pK4nKIGqLFef",
        "outputId": "3186980e-0968-420c-95f2-9081830dc65b"
      },
      "source": [
        "t+t1"
      ],
      "execution_count": null,
      "outputs": [
        {
          "output_type": "execute_result",
          "data": {
            "text/plain": [
              "('sai', 24, 'kumar', 30)"
            ]
          },
          "metadata": {
            "tags": []
          },
          "execution_count": 50
        }
      ]
    },
    {
      "cell_type": "code",
      "metadata": {
        "colab": {
          "base_uri": "https://localhost:8080/"
        },
        "id": "CVmqYEMUWYiZ",
        "outputId": "a7c73ac4-22e0-4f0c-f88d-a7fafc004a8b"
      },
      "source": [
        "str=\"saikumar\"\n",
        "len(str)"
      ],
      "execution_count": null,
      "outputs": [
        {
          "output_type": "execute_result",
          "data": {
            "text/plain": [
              "8"
            ]
          },
          "metadata": {
            "tags": []
          },
          "execution_count": 1
        }
      ]
    },
    {
      "cell_type": "code",
      "metadata": {
        "colab": {
          "base_uri": "https://localhost:8080/"
        },
        "id": "27wD2or9Lj9w",
        "outputId": "9203e10e-9581-42d8-8b50-cb300a7d4212"
      },
      "source": [
        "t*3"
      ],
      "execution_count": null,
      "outputs": [
        {
          "output_type": "execute_result",
          "data": {
            "text/plain": [
              "('sai', 24, 'sai', 24, 'sai', 24)"
            ]
          },
          "metadata": {
            "tags": []
          },
          "execution_count": 51
        }
      ]
    },
    {
      "cell_type": "code",
      "metadata": {
        "id": "cY4wzLS7LkAI"
      },
      "source": [
        "t2=(1,2,3,25,4,75)"
      ],
      "execution_count": null,
      "outputs": []
    },
    {
      "cell_type": "code",
      "metadata": {
        "colab": {
          "base_uri": "https://localhost:8080/"
        },
        "id": "X8FIlA4XLkCT",
        "outputId": "c1fead3a-3c7e-4015-ee4f-a100865a908e"
      },
      "source": [
        "min(t2)"
      ],
      "execution_count": null,
      "outputs": [
        {
          "output_type": "execute_result",
          "data": {
            "text/plain": [
              "1"
            ]
          },
          "metadata": {
            "tags": []
          },
          "execution_count": 54
        }
      ]
    },
    {
      "cell_type": "code",
      "metadata": {
        "colab": {
          "base_uri": "https://localhost:8080/"
        },
        "id": "C3O9-6ZvLkF0",
        "outputId": "f1bb230b-9e61-4a91-da27-d02228b2011b"
      },
      "source": [
        "max(t2)"
      ],
      "execution_count": null,
      "outputs": [
        {
          "output_type": "execute_result",
          "data": {
            "text/plain": [
              "75"
            ]
          },
          "metadata": {
            "tags": []
          },
          "execution_count": 55
        }
      ]
    },
    {
      "cell_type": "code",
      "metadata": {
        "colab": {
          "base_uri": "https://localhost:8080/"
        },
        "id": "3BpP873CL_Jt",
        "outputId": "4374f74c-64b6-43e1-9f5d-3510234be754"
      },
      "source": [
        "#list are mutable\n",
        "l=[\"sai\",24,True]\n",
        "l"
      ],
      "execution_count": null,
      "outputs": [
        {
          "output_type": "execute_result",
          "data": {
            "text/plain": [
              "['sai', 24, True]"
            ]
          },
          "metadata": {
            "tags": []
          },
          "execution_count": 56
        }
      ]
    },
    {
      "cell_type": "code",
      "metadata": {
        "colab": {
          "base_uri": "https://localhost:8080/"
        },
        "id": "fnvkzbwiL_Ok",
        "outputId": "91aa419f-6ff9-4223-9bf1-51c9732d8542"
      },
      "source": [
        "type(l)"
      ],
      "execution_count": null,
      "outputs": [
        {
          "output_type": "execute_result",
          "data": {
            "text/plain": [
              "list"
            ]
          },
          "metadata": {
            "tags": []
          },
          "execution_count": 57
        }
      ]
    },
    {
      "cell_type": "code",
      "metadata": {
        "id": "ufFrRVO4L_Q2"
      },
      "source": [
        "l.append(\"kumar\")"
      ],
      "execution_count": null,
      "outputs": []
    },
    {
      "cell_type": "code",
      "metadata": {
        "colab": {
          "base_uri": "https://localhost:8080/"
        },
        "id": "KQg78LhpL_Sm",
        "outputId": "6886f9bb-75a8-455c-ba8c-09faa206db10"
      },
      "source": [
        "l"
      ],
      "execution_count": null,
      "outputs": [
        {
          "output_type": "execute_result",
          "data": {
            "text/plain": [
              "['sai', 24, True, 'kumar']"
            ]
          },
          "metadata": {
            "tags": []
          },
          "execution_count": 62
        }
      ]
    },
    {
      "cell_type": "code",
      "metadata": {
        "colab": {
          "base_uri": "https://localhost:8080/",
          "height": 35
        },
        "id": "Tu2vvmnhL_Ux",
        "outputId": "275f7d61-a579-4512-d4f4-5b2d8c69bb91"
      },
      "source": [
        "l.pop()"
      ],
      "execution_count": null,
      "outputs": [
        {
          "output_type": "execute_result",
          "data": {
            "application/vnd.google.colaboratory.intrinsic+json": {
              "type": "string"
            },
            "text/plain": [
              "'kumar'"
            ]
          },
          "metadata": {
            "tags": []
          },
          "execution_count": 60
        }
      ]
    },
    {
      "cell_type": "code",
      "metadata": {
        "colab": {
          "base_uri": "https://localhost:8080/"
        },
        "id": "DjzUOWSCL_W9",
        "outputId": "38a0b2c1-aae4-4ad3-c820-853ec86e2bc1"
      },
      "source": [
        "l.pop(2)"
      ],
      "execution_count": null,
      "outputs": [
        {
          "output_type": "execute_result",
          "data": {
            "text/plain": [
              "True"
            ]
          },
          "metadata": {
            "tags": []
          },
          "execution_count": 63
        }
      ]
    },
    {
      "cell_type": "code",
      "metadata": {
        "colab": {
          "base_uri": "https://localhost:8080/"
        },
        "id": "8QlJRf4HL_Zl",
        "outputId": "981f0e33-7aa2-4012-903a-7343fee07138"
      },
      "source": [
        "l"
      ],
      "execution_count": null,
      "outputs": [
        {
          "output_type": "execute_result",
          "data": {
            "text/plain": [
              "['sai', 24, 'kumar']"
            ]
          },
          "metadata": {
            "tags": []
          },
          "execution_count": 64
        }
      ]
    },
    {
      "cell_type": "code",
      "metadata": {
        "id": "JFbO9O_cL_rR"
      },
      "source": [
        "l.reverse()"
      ],
      "execution_count": null,
      "outputs": []
    },
    {
      "cell_type": "code",
      "metadata": {
        "colab": {
          "base_uri": "https://localhost:8080/"
        },
        "id": "h-5Da86wL_t-",
        "outputId": "b9c84a44-2ac1-465a-ebd1-4a3952246da8"
      },
      "source": [
        "l"
      ],
      "execution_count": null,
      "outputs": [
        {
          "output_type": "execute_result",
          "data": {
            "text/plain": [
              "['kumar', 24, 'sai']"
            ]
          },
          "metadata": {
            "tags": []
          },
          "execution_count": 66
        }
      ]
    },
    {
      "cell_type": "code",
      "metadata": {
        "id": "ubEP8QUBL_xp"
      },
      "source": [
        "l1=[\"a\",\"f\",\"t\"]\n",
        "l1.sort()"
      ],
      "execution_count": null,
      "outputs": []
    },
    {
      "cell_type": "code",
      "metadata": {
        "colab": {
          "base_uri": "https://localhost:8080/"
        },
        "id": "oTYbBd3PONC6",
        "outputId": "f422eafb-c4da-430c-c459-3baf8f574636"
      },
      "source": [
        "l1"
      ],
      "execution_count": null,
      "outputs": [
        {
          "output_type": "execute_result",
          "data": {
            "text/plain": [
              "['a', 'f', 't']"
            ]
          },
          "metadata": {
            "tags": []
          },
          "execution_count": 69
        }
      ]
    },
    {
      "cell_type": "code",
      "metadata": {
        "colab": {
          "base_uri": "https://localhost:8080/"
        },
        "id": "gu3113xSOZ1i",
        "outputId": "bbda5eaa-dbee-41b8-ddf2-3e080e08a553"
      },
      "source": [
        "#dictionary are mutable\n",
        "a={\"apple\":100,\"mango\":78,\"orange\":69}\n",
        "a.keys()"
      ],
      "execution_count": null,
      "outputs": [
        {
          "output_type": "execute_result",
          "data": {
            "text/plain": [
              "dict_keys(['apple', 'mango', 'orange'])"
            ]
          },
          "metadata": {
            "tags": []
          },
          "execution_count": 70
        }
      ]
    },
    {
      "cell_type": "code",
      "metadata": {
        "colab": {
          "base_uri": "https://localhost:8080/"
        },
        "id": "f8_K3VKROZ4H",
        "outputId": "fc415f05-b878-4951-a972-c496299e09c9"
      },
      "source": [
        "a.values()"
      ],
      "execution_count": null,
      "outputs": [
        {
          "output_type": "execute_result",
          "data": {
            "text/plain": [
              "dict_values([100, 78, 69])"
            ]
          },
          "metadata": {
            "tags": []
          },
          "execution_count": 71
        }
      ]
    },
    {
      "cell_type": "code",
      "metadata": {
        "colab": {
          "base_uri": "https://localhost:8080/"
        },
        "id": "oW5yj0CtOZ6L",
        "outputId": "0ba75c5e-1d4f-478e-c173-90d550f21fab"
      },
      "source": [
        "a[\"mango\"]=200\n",
        "a"
      ],
      "execution_count": null,
      "outputs": [
        {
          "output_type": "execute_result",
          "data": {
            "text/plain": [
              "{'apple': 100, 'mango': 200, 'orange': 69}"
            ]
          },
          "metadata": {
            "tags": []
          },
          "execution_count": 73
        }
      ]
    },
    {
      "cell_type": "code",
      "metadata": {
        "colab": {
          "base_uri": "https://localhost:8080/"
        },
        "id": "yv8DzHCAOZ8f",
        "outputId": "784956de-6b17-4187-f688-b882cf71c103"
      },
      "source": [
        "a[\"banana\"]=90\n",
        "a"
      ],
      "execution_count": null,
      "outputs": [
        {
          "output_type": "execute_result",
          "data": {
            "text/plain": [
              "{'apple': 100, 'banana': 90, 'mango': 200, 'orange': 69}"
            ]
          },
          "metadata": {
            "tags": []
          },
          "execution_count": 76
        }
      ]
    },
    {
      "cell_type": "code",
      "metadata": {
        "colab": {
          "base_uri": "https://localhost:8080/"
        },
        "id": "qU86wCfUOZ-y",
        "outputId": "6083616b-88ef-420e-96bc-a9f9ff95dddd"
      },
      "source": [
        "b={\"guava\":45,\"papaya\":39}\n",
        "a.update(b)\n",
        "a"
      ],
      "execution_count": null,
      "outputs": [
        {
          "output_type": "execute_result",
          "data": {
            "text/plain": [
              "{'apple': 100,\n",
              " 'banana': 90,\n",
              " 'guava': 45,\n",
              " 'mango': 200,\n",
              " 'orange': 69,\n",
              " 'papaya': 39}"
            ]
          },
          "metadata": {
            "tags": []
          },
          "execution_count": 78
        }
      ]
    },
    {
      "cell_type": "code",
      "metadata": {
        "colab": {
          "base_uri": "https://localhost:8080/"
        },
        "id": "9K_k3U_AOaBY",
        "outputId": "c71a5373-d563-4dc7-ecb7-c3b26d0ed5c9"
      },
      "source": [
        "a.pop(\"orange\")\n",
        "a"
      ],
      "execution_count": null,
      "outputs": [
        {
          "output_type": "execute_result",
          "data": {
            "text/plain": [
              "{'apple': 100, 'banana': 90, 'guava': 45, 'mango': 200, 'papaya': 39}"
            ]
          },
          "metadata": {
            "tags": []
          },
          "execution_count": 80
        }
      ]
    },
    {
      "cell_type": "code",
      "metadata": {
        "id": "oH8YqoZqOaD5"
      },
      "source": [
        "#to write a multiline string  we use ''' ''''\n",
        "str=''' \n",
        "my name is saikumar nayak\n",
        "iam an introvert\n",
        "i like to watch wwe\n",
        "'''"
      ],
      "execution_count": null,
      "outputs": []
    },
    {
      "cell_type": "code",
      "metadata": {
        "colab": {
          "base_uri": "https://localhost:8080/",
          "height": 35
        },
        "id": "Qm__TYhJOaGg",
        "outputId": "a1d8e5a8-c1f8-48b6-d540-0fdd2ac65e2c"
      },
      "source": [
        "str"
      ],
      "execution_count": null,
      "outputs": [
        {
          "output_type": "execute_result",
          "data": {
            "application/vnd.google.colaboratory.intrinsic+json": {
              "type": "string"
            },
            "text/plain": [
              "' \\nmy name is saikumar nayak\\niam an introvert\\ni like to watch wwe\\n'"
            ]
          },
          "metadata": {
            "tags": []
          },
          "execution_count": 82
        }
      ]
    },
    {
      "cell_type": "code",
      "metadata": {
        "colab": {
          "base_uri": "https://localhost:8080/",
          "height": 35
        },
        "id": "Lg22r6VSOaJQ",
        "outputId": "07fffa24-2a6d-4197-e040-8f25154760fd"
      },
      "source": [
        "my=\"saikumar nayak\"\n",
        "my[0 ]"
      ],
      "execution_count": null,
      "outputs": [
        {
          "output_type": "execute_result",
          "data": {
            "application/vnd.google.colaboratory.intrinsic+json": {
              "type": "string"
            },
            "text/plain": [
              "'s'"
            ]
          },
          "metadata": {
            "tags": []
          },
          "execution_count": 83
        }
      ]
    },
    {
      "cell_type": "code",
      "metadata": {
        "colab": {
          "base_uri": "https://localhost:8080/",
          "height": 35
        },
        "id": "hCrdZsk4Qmou",
        "outputId": "65ffd226-1416-47cd-fafe-ba3584a04ad8"
      },
      "source": [
        "my[3:]"
      ],
      "execution_count": null,
      "outputs": [
        {
          "output_type": "execute_result",
          "data": {
            "application/vnd.google.colaboratory.intrinsic+json": {
              "type": "string"
            },
            "text/plain": [
              "'kumar nayak'"
            ]
          },
          "metadata": {
            "tags": []
          },
          "execution_count": 84
        }
      ]
    },
    {
      "cell_type": "code",
      "metadata": {
        "id": "WkhZfD7GQQKj"
      },
      "source": [
        ""
      ],
      "execution_count": null,
      "outputs": []
    },
    {
      "cell_type": "code",
      "metadata": {
        "id": "pcEivw83QQS3"
      },
      "source": [
        ""
      ],
      "execution_count": null,
      "outputs": []
    },
    {
      "cell_type": "code",
      "metadata": {
        "id": "NwRsC66QQQVN"
      },
      "source": [
        ""
      ],
      "execution_count": null,
      "outputs": []
    },
    {
      "cell_type": "code",
      "metadata": {
        "id": "kIE_uCPJQQYp"
      },
      "source": [
        ""
      ],
      "execution_count": null,
      "outputs": []
    },
    {
      "cell_type": "code",
      "metadata": {
        "id": "hE_Ch-iFOaMq"
      },
      "source": [
        ""
      ],
      "execution_count": null,
      "outputs": []
    },
    {
      "cell_type": "code",
      "metadata": {
        "colab": {
          "base_uri": "https://localhost:8080/",
          "height": 35
        },
        "id": "aia_EoiEWcpq",
        "outputId": "286ff050-489c-4201-a8c3-c8da07baee85"
      },
      "source": [
        "str.lower()"
      ],
      "execution_count": null,
      "outputs": [
        {
          "output_type": "execute_result",
          "data": {
            "application/vnd.google.colaboratory.intrinsic+json": {
              "type": "string"
            },
            "text/plain": [
              "'saikumar'"
            ]
          },
          "metadata": {
            "tags": []
          },
          "execution_count": 2
        }
      ]
    },
    {
      "cell_type": "code",
      "metadata": {
        "colab": {
          "base_uri": "https://localhost:8080/",
          "height": 35
        },
        "id": "LZl8Oi2MWgWj",
        "outputId": "10784f7b-7cb9-4bd9-b32a-1cf5f1c6e288"
      },
      "source": [
        "str.upper()"
      ],
      "execution_count": null,
      "outputs": [
        {
          "output_type": "execute_result",
          "data": {
            "application/vnd.google.colaboratory.intrinsic+json": {
              "type": "string"
            },
            "text/plain": [
              "'SAIKUMAR'"
            ]
          },
          "metadata": {
            "tags": []
          },
          "execution_count": 3
        }
      ]
    },
    {
      "cell_type": "code",
      "metadata": {
        "id": "OJGo987mWil1"
      },
      "source": [
        "a=\"my name is saikumar nayak\""
      ],
      "execution_count": null,
      "outputs": []
    },
    {
      "cell_type": "code",
      "metadata": {
        "colab": {
          "base_uri": "https://localhost:8080/",
          "height": 35
        },
        "id": "-Ks2p476W2NP",
        "outputId": "e53a9fa9-a578-406a-b45e-4a7f269205f2"
      },
      "source": [
        "a.replace(\"my name is\",\"i'm\")"
      ],
      "execution_count": null,
      "outputs": [
        {
          "output_type": "execute_result",
          "data": {
            "application/vnd.google.colaboratory.intrinsic+json": {
              "type": "string"
            },
            "text/plain": [
              "\"i'm saikumar nayak\""
            ]
          },
          "metadata": {
            "tags": []
          },
          "execution_count": 16
        }
      ]
    },
    {
      "cell_type": "code",
      "metadata": {
        "id": "jiLJDsjvXNOZ"
      },
      "source": [
        "b=\"sai sai sai kumar kumar\""
      ],
      "execution_count": null,
      "outputs": []
    },
    {
      "cell_type": "code",
      "metadata": {
        "colab": {
          "base_uri": "https://localhost:8080/"
        },
        "id": "scVzCRuuXx0T",
        "outputId": "820b7f69-9362-461f-bbb2-425d3d902c55"
      },
      "source": [
        "b.count(\"sai\")#no.of time a substring occured"
      ],
      "execution_count": null,
      "outputs": [
        {
          "output_type": "execute_result",
          "data": {
            "text/plain": [
              "3"
            ]
          },
          "metadata": {
            "tags": []
          },
          "execution_count": 19
        }
      ]
    },
    {
      "cell_type": "code",
      "metadata": {
        "colab": {
          "base_uri": "https://localhost:8080/"
        },
        "id": "t6dHMFvLX2R6",
        "outputId": "932b3ff2-c678-4bf5-9840-203d83e1fe68"
      },
      "source": [
        "b.count(\"s\")"
      ],
      "execution_count": null,
      "outputs": [
        {
          "output_type": "execute_result",
          "data": {
            "text/plain": [
              "3"
            ]
          },
          "metadata": {
            "tags": []
          },
          "execution_count": 20
        }
      ]
    },
    {
      "cell_type": "code",
      "metadata": {
        "colab": {
          "base_uri": "https://localhost:8080/"
        },
        "id": "ruNpVsN6YLrF",
        "outputId": "019c07c7-595a-4c08-914d-651681ca7c19"
      },
      "source": [
        "b.count(\"a\")"
      ],
      "execution_count": null,
      "outputs": [
        {
          "output_type": "execute_result",
          "data": {
            "text/plain": [
              "5"
            ]
          },
          "metadata": {
            "tags": []
          },
          "execution_count": 21
        }
      ]
    },
    {
      "cell_type": "code",
      "metadata": {
        "colab": {
          "base_uri": "https://localhost:8080/"
        },
        "id": "qjdzw1sxYOZt",
        "outputId": "6f3195f9-b279-42f0-8276-a39a073c422c"
      },
      "source": [
        "b.find(\"sai\")#to find the index "
      ],
      "execution_count": null,
      "outputs": [
        {
          "output_type": "execute_result",
          "data": {
            "text/plain": [
              "0"
            ]
          },
          "metadata": {
            "tags": []
          },
          "execution_count": 22
        }
      ]
    },
    {
      "cell_type": "code",
      "metadata": {
        "colab": {
          "base_uri": "https://localhost:8080/"
        },
        "id": "jRswpVqeYXVV",
        "outputId": "d02947ca-8850-4630-9f71-6511f6a14a9d"
      },
      "source": [
        "b.find(\"kumar\")"
      ],
      "execution_count": null,
      "outputs": [
        {
          "output_type": "execute_result",
          "data": {
            "text/plain": [
              "12"
            ]
          },
          "metadata": {
            "tags": []
          },
          "execution_count": 24
        }
      ]
    },
    {
      "cell_type": "code",
      "metadata": {
        "colab": {
          "base_uri": "https://localhost:8080/"
        },
        "id": "QLRxB2xqYZrL",
        "outputId": "f3965a16-63d9-45fa-d154-c9a768d8a8ec"
      },
      "source": [
        "c=\"i like apple,mango,grapes\"\n",
        "c.split(\",\")"
      ],
      "execution_count": null,
      "outputs": [
        {
          "output_type": "execute_result",
          "data": {
            "text/plain": [
              "['i like apple', 'mango', 'grapes']"
            ]
          },
          "metadata": {
            "tags": []
          },
          "execution_count": 28
        }
      ]
    },
    {
      "cell_type": "code",
      "metadata": {
        "colab": {
          "base_uri": "https://localhost:8080/"
        },
        "id": "bEVZn4QXYuKM",
        "outputId": "c72125a1-c2db-4253-d7d1-3169d88cade4"
      },
      "source": [
        "c.split(\"i\")#befor i one item after i another item"
      ],
      "execution_count": null,
      "outputs": [
        {
          "output_type": "execute_result",
          "data": {
            "text/plain": [
              "['', ' l', 'ke apple,mango,grapes']"
            ]
          },
          "metadata": {
            "tags": []
          },
          "execution_count": 29
        }
      ]
    },
    {
      "cell_type": "code",
      "metadata": {
        "id": "pq9vqOpNZMWU"
      },
      "source": [
        "a=12\n"
      ],
      "execution_count": null,
      "outputs": []
    },
    {
      "cell_type": "code",
      "metadata": {
        "id": "U5hnrATKZ3DS"
      },
      "source": [
        "b=23"
      ],
      "execution_count": null,
      "outputs": []
    },
    {
      "cell_type": "code",
      "metadata": {
        "colab": {
          "base_uri": "https://localhost:8080/"
        },
        "id": "lgsQ4-CkZst2",
        "outputId": "bb015fac-1b9e-405f-a011-25a774e13411"
      },
      "source": [
        "if(a>b):\n",
        "  print(\"a is greater\")"
      ],
      "execution_count": null,
      "outputs": [
        {
          "output_type": "stream",
          "text": [
            "a is greater\n"
          ],
          "name": "stdout"
        }
      ]
    },
    {
      "cell_type": "code",
      "metadata": {
        "id": "3TtCJJNWZw91"
      },
      "source": [
        "a=45"
      ],
      "execution_count": null,
      "outputs": []
    },
    {
      "cell_type": "code",
      "metadata": {
        "id": "jVDXIAgwaAFr"
      },
      "source": [
        "a=12\n",
        "b=20\n",
        "c=30"
      ],
      "execution_count": null,
      "outputs": []
    },
    {
      "cell_type": "code",
      "metadata": {
        "colab": {
          "base_uri": "https://localhost:8080/"
        },
        "id": "4JYCPms-aPI6",
        "outputId": "3aa3d822-6293-42a5-972f-df91b0f19fcb"
      },
      "source": [
        "if(a>b) and (a>c):\n",
        "  print(\" a is greater\")\n",
        "elif(b>c) and (b>a):\n",
        "  print(\"b is greater\")\n",
        "else:\n",
        "    print(\"c is greater\")"
      ],
      "execution_count": null,
      "outputs": [
        {
          "output_type": "stream",
          "text": [
            "c is greater\n"
          ],
          "name": "stdout"
        }
      ]
    },
    {
      "cell_type": "code",
      "metadata": {
        "colab": {
          "base_uri": "https://localhost:8080/"
        },
        "id": "IlEoQ9tyamJB",
        "outputId": "912ff020-4088-41f0-bfea-5f5a513c1ea6"
      },
      "source": [
        "t=(\"a\",\"b\",\"c\")\n",
        "if \"a\" in t:\n",
        "  print(\"a is in t\")\n",
        "else:#if statement with tuple\n",
        "  print(\"the value is not in t\")  "
      ],
      "execution_count": null,
      "outputs": [
        {
          "output_type": "stream",
          "text": [
            "a is in t\n"
          ],
          "name": "stdout"
        }
      ]
    },
    {
      "cell_type": "code",
      "metadata": {
        "colab": {
          "base_uri": "https://localhost:8080/"
        },
        "id": "Qce9cGtkbDJX",
        "outputId": "600a3eea-8380-4e94-be46-a23bb1506b3e"
      },
      "source": [
        "l=[\"a\",\"b\",\"c\"]\n",
        "if l[1]==\"b\":\n",
        "  l[1]=\"x\"#if statement with list\n",
        "  print(l)"
      ],
      "execution_count": null,
      "outputs": [
        {
          "output_type": "stream",
          "text": [
            "['a', 'x', 'c']\n"
          ],
          "name": "stdout"
        }
      ]
    },
    {
      "cell_type": "code",
      "metadata": {
        "colab": {
          "base_uri": "https://localhost:8080/"
        },
        "id": "A5fM2izxcV8d",
        "outputId": "e9808303-daf1-478d-f4e4-f8d6d8452382"
      },
      "source": [
        "print(l)"
      ],
      "execution_count": null,
      "outputs": [
        {
          "output_type": "stream",
          "text": [
            "['a', 'x', 'c']\n"
          ],
          "name": "stdout"
        }
      ]
    },
    {
      "cell_type": "code",
      "metadata": {
        "id": "KW3l9teZbdyJ"
      },
      "source": [
        "d={\"a\":10,\"b\":20,\"c\":40}\n",
        "if d[\"b\"]==20:\n",
        "  d[\"b\"]=50"
      ],
      "execution_count": null,
      "outputs": []
    },
    {
      "cell_type": "code",
      "metadata": {
        "colab": {
          "base_uri": "https://localhost:8080/"
        },
        "id": "vWhUesG5cFVZ",
        "outputId": "3e3f276f-9a70-40ad-8569-4de54a0a4a3d"
      },
      "source": [
        "d"
      ],
      "execution_count": null,
      "outputs": [
        {
          "output_type": "execute_result",
          "data": {
            "text/plain": [
              "{'a': 10, 'b': 50, 'c': 40}"
            ]
          },
          "metadata": {
            "tags": []
          },
          "execution_count": 49
        }
      ]
    },
    {
      "cell_type": "code",
      "metadata": {
        "colab": {
          "base_uri": "https://localhost:8080/"
        },
        "id": "QcMNEXfxc6Sz",
        "outputId": "1c70fa6a-003c-4db2-bf29-0cc3dd665ecd"
      },
      "source": [
        "i=1\n",
        "while i<=10:\n",
        "  print(i)\n",
        "  i=i+1"
      ],
      "execution_count": null,
      "outputs": [
        {
          "output_type": "stream",
          "text": [
            "1\n",
            "2\n",
            "3\n",
            "4\n",
            "5\n",
            "6\n",
            "7\n",
            "8\n",
            "9\n",
            "10\n"
          ],
          "name": "stdout"
        }
      ]
    },
    {
      "cell_type": "code",
      "metadata": {
        "colab": {
          "base_uri": "https://localhost:8080/"
        },
        "id": "2A6ZzYlFdLgP",
        "outputId": "3e47b313-0b7c-4771-ec53-17b126434072"
      },
      "source": [
        "i=1\n",
        "while i<=10:\n",
        "  print(i,\"*\",2,\"=\",i*2)\n",
        "  i=i+1"
      ],
      "execution_count": null,
      "outputs": [
        {
          "output_type": "stream",
          "text": [
            "1 * 2 = 2\n",
            "2 * 2 = 4\n",
            "3 * 2 = 6\n",
            "4 * 2 = 8\n",
            "5 * 2 = 10\n",
            "6 * 2 = 12\n",
            "7 * 2 = 14\n",
            "8 * 2 = 16\n",
            "9 * 2 = 18\n",
            "10 * 2 = 20\n"
          ],
          "name": "stdout"
        }
      ]
    },
    {
      "cell_type": "code",
      "metadata": {
        "id": "tInaBBh2dfzP"
      },
      "source": [
        "#while with list\n",
        "l=[1,2,3,4,5]\n",
        "i=0\n",
        "while i<len(l):\n",
        "  l[i]=l[i]+100\n",
        "  i=i+1"
      ],
      "execution_count": null,
      "outputs": []
    },
    {
      "cell_type": "code",
      "metadata": {
        "colab": {
          "base_uri": "https://localhost:8080/"
        },
        "id": "T_55ylDiejH8",
        "outputId": "aff5fbb9-3444-4d39-e028-45f147b02b9b"
      },
      "source": [
        "l"
      ],
      "execution_count": null,
      "outputs": [
        {
          "output_type": "execute_result",
          "data": {
            "text/plain": [
              "[101, 102, 103, 104, 105]"
            ]
          },
          "metadata": {
            "tags": []
          },
          "execution_count": 67
        }
      ]
    },
    {
      "cell_type": "code",
      "metadata": {
        "colab": {
          "base_uri": "https://localhost:8080/"
        },
        "id": "r9LHsi7we2K2",
        "outputId": "5afa14f3-346e-4d46-eb6d-7c13d99fe922"
      },
      "source": [
        "for i in l:\n",
        "  print(i)"
      ],
      "execution_count": null,
      "outputs": [
        {
          "output_type": "stream",
          "text": [
            "101\n",
            "102\n",
            "103\n",
            "104\n",
            "105\n"
          ],
          "name": "stdout"
        }
      ]
    },
    {
      "cell_type": "code",
      "metadata": {
        "colab": {
          "base_uri": "https://localhost:8080/"
        },
        "id": "_0c050YDftUS",
        "outputId": "fe5d3c79-e3c5-4afa-a2fa-64b7091b8957"
      },
      "source": [
        "l2=[\"sai\",\"kumar\",\"nayak\"]\n",
        "for i in l:\n",
        "  for j in l2:\n",
        "    print(i,j)"
      ],
      "execution_count": null,
      "outputs": [
        {
          "output_type": "stream",
          "text": [
            "101 sai\n",
            "101 kumar\n",
            "101 nayak\n",
            "102 sai\n",
            "102 kumar\n",
            "102 nayak\n",
            "103 sai\n",
            "103 kumar\n",
            "103 nayak\n",
            "104 sai\n",
            "104 kumar\n",
            "104 nayak\n",
            "105 sai\n",
            "105 kumar\n",
            "105 nayak\n"
          ],
          "name": "stdout"
        }
      ]
    },
    {
      "cell_type": "code",
      "metadata": {
        "id": "_IcPEBLI6P43"
      },
      "source": [
        "#functions in python"
      ],
      "execution_count": null,
      "outputs": []
    },
    {
      "cell_type": "code",
      "metadata": {
        "id": "kTRYtM7Vf2w3"
      },
      "source": [
        "def hello():\n",
        "  print(\"hello world\")\n"
      ],
      "execution_count": null,
      "outputs": []
    },
    {
      "cell_type": "code",
      "metadata": {
        "colab": {
          "base_uri": "https://localhost:8080/"
        },
        "id": "bhfxlJdvgdKe",
        "outputId": "806879fb-c3f2-41a7-e5f7-b00d2c451fdd"
      },
      "source": [
        "hello()  "
      ],
      "execution_count": null,
      "outputs": [
        {
          "output_type": "stream",
          "text": [
            "hello world\n"
          ],
          "name": "stdout"
        }
      ]
    },
    {
      "cell_type": "code",
      "metadata": {
        "id": "KuIcq2Isgltj"
      },
      "source": [
        "def add(x):\n",
        "  return x+10"
      ],
      "execution_count": null,
      "outputs": []
    },
    {
      "cell_type": "code",
      "metadata": {
        "colab": {
          "base_uri": "https://localhost:8080/"
        },
        "id": "gFHRA-oqgvyE",
        "outputId": "3b85fbe0-6a7d-4687-d67d-05c7dc0fe4e5"
      },
      "source": [
        "add(20)# invoking a function"
      ],
      "execution_count": null,
      "outputs": [
        {
          "output_type": "execute_result",
          "data": {
            "text/plain": [
              "30"
            ]
          },
          "metadata": {
            "tags": []
          },
          "execution_count": 76
        }
      ]
    },
    {
      "cell_type": "code",
      "metadata": {
        "id": "wDiNwfNYgyYY"
      },
      "source": [
        "def oddeve(x):\n",
        "  if x%2==0:\n",
        "    print(x,\"is even\")\n",
        "  else:\n",
        "    print(\"odd\")\n",
        "      "
      ],
      "execution_count": null,
      "outputs": []
    },
    {
      "cell_type": "code",
      "metadata": {
        "colab": {
          "base_uri": "https://localhost:8080/"
        },
        "id": "cB-sOZCUhAxh",
        "outputId": "1f28c487-0a0b-4513-fa66-29245260e9b6"
      },
      "source": [
        "oddeve(3)"
      ],
      "execution_count": null,
      "outputs": [
        {
          "output_type": "stream",
          "text": [
            "odd\n"
          ],
          "name": "stdout"
        }
      ]
    },
    {
      "cell_type": "code",
      "metadata": {
        "id": "0I_ADmFFhDbe"
      },
      "source": [
        "#lambda function is used in filter map and reduce lambda is also called annonemus function\n",
        "a=lambda x:x**3 "
      ],
      "execution_count": null,
      "outputs": []
    },
    {
      "cell_type": "code",
      "metadata": {
        "colab": {
          "base_uri": "https://localhost:8080/"
        },
        "id": "GMI7CgHihcJg",
        "outputId": "126de99c-2e7b-4425-9c41-539c7f04ec1e"
      },
      "source": [
        "a(2)"
      ],
      "execution_count": null,
      "outputs": [
        {
          "output_type": "execute_result",
          "data": {
            "text/plain": [
              "8"
            ]
          },
          "metadata": {
            "tags": []
          },
          "execution_count": 80
        }
      ]
    },
    {
      "cell_type": "code",
      "metadata": {
        "colab": {
          "base_uri": "https://localhost:8080/"
        },
        "id": "4XaruaV2he36",
        "outputId": "94ae7490-72cb-424b-b890-1131905fbeeb"
      },
      "source": [
        "#lambda with filter\n",
        "l=[2,4,5,65,7,5,3,34,5]# filter function is nothing but filtering a sequence on a condition \n",
        "list(filter(lambda x:(x%2!=0),l))"
      ],
      "execution_count": null,
      "outputs": [
        {
          "output_type": "execute_result",
          "data": {
            "text/plain": [
              "[5, 65, 7, 5, 3, 5]"
            ]
          },
          "metadata": {
            "tags": []
          },
          "execution_count": 82
        }
      ]
    },
    {
      "cell_type": "code",
      "metadata": {
        "colab": {
          "base_uri": "https://localhost:8080/"
        },
        "id": "OMaoxlvCiI6u",
        "outputId": "5909728a-c47c-4737-93d6-26a92e085fb2"
      },
      "source": [
        "#lambda with map\n",
        "#map fun will help in map a single element to a sequence\n",
        "list(map(lambda x:x*2,l))"
      ],
      "execution_count": null,
      "outputs": [
        {
          "output_type": "execute_result",
          "data": {
            "text/plain": [
              "[4, 8, 10, 130, 14, 10, 6, 68, 10]"
            ]
          },
          "metadata": {
            "tags": []
          },
          "execution_count": 83
        }
      ]
    },
    {
      "cell_type": "code",
      "metadata": {
        "colab": {
          "base_uri": "https://localhost:8080/"
        },
        "id": "VPVroClJjAcM",
        "outputId": "57ec8752-beab-4c90-da27-bf3c1a065946"
      },
      "source": [
        "#lambda with reduce\n",
        "#we use reduce when we want a final result on a sequence\n",
        "from functools import reduce \n",
        "reduce(lambda x,y:x+y,l)"
      ],
      "execution_count": null,
      "outputs": [
        {
          "output_type": "execute_result",
          "data": {
            "text/plain": [
              "130"
            ]
          },
          "metadata": {
            "tags": []
          },
          "execution_count": 84
        }
      ]
    },
    {
      "cell_type": "code",
      "metadata": {
        "id": "pprHEsTY6JuD"
      },
      "source": [
        "#oops in python"
      ],
      "execution_count": null,
      "outputs": []
    },
    {
      "cell_type": "code",
      "metadata": {
        "id": "LivmUKdZj3li"
      },
      "source": [
        "class Phone:\n",
        "  def make_call(self):#\n",
        "    print(\"make phone call\")\n",
        "  def paly_game(self):\n",
        "    print(\"play games\")"
      ],
      "execution_count": null,
      "outputs": []
    },
    {
      "cell_type": "code",
      "metadata": {
        "id": "JmSGQCU2lXx6"
      },
      "source": [
        "p=Phone()#instantiating the p object"
      ],
      "execution_count": null,
      "outputs": []
    },
    {
      "cell_type": "code",
      "metadata": {
        "colab": {
          "base_uri": "https://localhost:8080/"
        },
        "id": "nFoCg7iLlcN0",
        "outputId": "e550aad6-5c89-43d0-b817-946cfc176c04"
      },
      "source": [
        "p.make_call()#invoke methods through object"
      ],
      "execution_count": null,
      "outputs": [
        {
          "output_type": "stream",
          "text": [
            "make phone call\n"
          ],
          "name": "stdout"
        }
      ]
    },
    {
      "cell_type": "code",
      "metadata": {
        "colab": {
          "base_uri": "https://localhost:8080/"
        },
        "id": "PxSTmIkOls55",
        "outputId": "6a4daa35-0475-484d-beda-355b9b87f64e"
      },
      "source": [
        "p.paly_game()"
      ],
      "execution_count": null,
      "outputs": [
        {
          "output_type": "stream",
          "text": [
            "play games\n"
          ],
          "name": "stdout"
        }
      ]
    },
    {
      "cell_type": "code",
      "metadata": {
        "id": "tnXTQqrflvLF"
      },
      "source": [
        "class Phone:\n",
        "  def set_color(self,color):\n",
        "    self.color=color\n",
        "  def set_cost(self,cost):\n",
        "    self.cost=cost\n",
        "  def show_color(self):\n",
        "    return self.color\n",
        "  def show_cost(self):\n",
        "    return self.cost      "
      ],
      "execution_count": null,
      "outputs": []
    },
    {
      "cell_type": "code",
      "metadata": {
        "id": "Hwwl0wVDm1cH"
      },
      "source": [
        "p1=Phone()"
      ],
      "execution_count": null,
      "outputs": []
    },
    {
      "cell_type": "code",
      "metadata": {
        "id": "4rvRf4mcm3Mv"
      },
      "source": [
        "p1.set_color(\"red\")"
      ],
      "execution_count": null,
      "outputs": []
    },
    {
      "cell_type": "code",
      "metadata": {
        "id": "TEEDWKysm6DP"
      },
      "source": [
        "p1.set_cost(5000)"
      ],
      "execution_count": null,
      "outputs": []
    },
    {
      "cell_type": "code",
      "metadata": {
        "colab": {
          "base_uri": "https://localhost:8080/",
          "height": 35
        },
        "id": "WsN6Urlsn2Zx",
        "outputId": "7bcf6f39-c4c6-4bef-fafa-7a548036bf26"
      },
      "source": [
        "p1.show_color()"
      ],
      "execution_count": null,
      "outputs": [
        {
          "output_type": "execute_result",
          "data": {
            "application/vnd.google.colaboratory.intrinsic+json": {
              "type": "string"
            },
            "text/plain": [
              "'red'"
            ]
          },
          "metadata": {
            "tags": []
          },
          "execution_count": 110
        }
      ]
    },
    {
      "cell_type": "code",
      "metadata": {
        "colab": {
          "base_uri": "https://localhost:8080/"
        },
        "id": "tQC8P7Ubn429",
        "outputId": "5b86bb38-333c-40de-d003-05c3f843e788"
      },
      "source": [
        "p1.show_cost()"
      ],
      "execution_count": null,
      "outputs": [
        {
          "output_type": "execute_result",
          "data": {
            "text/plain": [
              "5000"
            ]
          },
          "metadata": {
            "tags": []
          },
          "execution_count": 111
        }
      ]
    },
    {
      "cell_type": "code",
      "metadata": {
        "id": "r0CIQtL_oLTu"
      },
      "source": [
        "class Employee:\n",
        "  def __init__(self,name,age,salary,gender):#init method is considered as constructor \n",
        "    self.name=name\n",
        "    self.age=age\n",
        "    self.salary=salary\n",
        "    self.gender=gender\n",
        "  def employee_details(self):\n",
        "    print(\"the employee name  is \",self.name)\n",
        "    print(\"the employee age  is \",self.age) \n",
        "    print(\"the employee salary  is \",self.salary)\n",
        "    print(\"the employee gender  is \",self.gender) "
      ],
      "execution_count": null,
      "outputs": []
    },
    {
      "cell_type": "code",
      "metadata": {
        "id": "TaRbjbKMpyHP"
      },
      "source": [
        "e=Employee(\"sai\",24,300000,\"male\")#instansitiating the e object"
      ],
      "execution_count": null,
      "outputs": []
    },
    {
      "cell_type": "code",
      "metadata": {
        "colab": {
          "base_uri": "https://localhost:8080/"
        },
        "id": "ojjLnE1yqKB1",
        "outputId": "cbe45a4d-3a67-4a0f-fd64-04232a137772"
      },
      "source": [
        "e.employee_details()#invoking the employee_deatails"
      ],
      "execution_count": null,
      "outputs": [
        {
          "output_type": "stream",
          "text": [
            "the employee name  is  sai\n",
            "the employee age  is  24\n",
            "the employee salary  is  300000\n",
            "the employee gender  is  male\n"
          ],
          "name": "stdout"
        }
      ]
    },
    {
      "cell_type": "code",
      "metadata": {
        "id": "tLg7_XRjqMYz"
      },
      "source": [
        "class Vehicle:#parent class \n",
        "  def __init__(self,mileage,cost):\n",
        "    self.mileage=mileage\n",
        "    self.cost=cost\n",
        "  def show_vehicle(self):\n",
        "    print(\"the mileage of the vehicle is \",self.mileage)\n",
        "    print(\"the cost of the vehicle is \", self.cost)"
      ],
      "execution_count": null,
      "outputs": []
    },
    {
      "cell_type": "code",
      "metadata": {
        "id": "JyiL5Qswr18Q"
      },
      "source": [
        "class Cra(Vehicle):#child class\n",
        "  def show_car(self):\n",
        "    print(\"i am a car\")"
      ],
      "execution_count": null,
      "outputs": []
    },
    {
      "cell_type": "code",
      "metadata": {
        "id": "KUhI1_ppsTKY"
      },
      "source": [
        "c=Cra(30,300000) #instantiating the c obj "
      ],
      "execution_count": null,
      "outputs": []
    },
    {
      "cell_type": "code",
      "metadata": {
        "colab": {
          "base_uri": "https://localhost:8080/"
        },
        "id": "688Uf3DwsjWV",
        "outputId": "6d30f1af-d023-4e6e-ec76-090acd784105"
      },
      "source": [
        "c.show_car()"
      ],
      "execution_count": null,
      "outputs": [
        {
          "output_type": "stream",
          "text": [
            "i am a car\n"
          ],
          "name": "stdout"
        }
      ]
    },
    {
      "cell_type": "code",
      "metadata": {
        "id": "tU2vfu2Esusd",
        "colab": {
          "base_uri": "https://localhost:8080/"
        },
        "outputId": "4e0c0fc4-04cc-429f-a3e3-0c844818049d"
      },
      "source": [
        "c.show_vehicle()"
      ],
      "execution_count": null,
      "outputs": [
        {
          "output_type": "stream",
          "text": [
            "the mileage of the vehicle is  30\n",
            "the cost of the vehicle is  300000\n"
          ],
          "name": "stdout"
        }
      ]
    },
    {
      "cell_type": "code",
      "metadata": {
        "id": "3aECaRVRsyNS"
      },
      "source": [
        "#ovre riding the init method\n",
        "class Vehicle():\n",
        "  def __init__(self,mileage,cost):\n",
        "    self.mileage=mileage\n",
        "    self.cost=cost\n",
        "  def show_details(self):\n",
        "    print(\"iam a vehicle, i am in usper class\")\n",
        "    print(\"i give a mileage of \",self.mileage)  \n",
        "    print(\"my cost is\",self.cost)"
      ],
      "execution_count": null,
      "outputs": []
    },
    {
      "cell_type": "code",
      "metadata": {
        "id": "7IAgXAbt7dwv"
      },
      "source": [
        "class Car(Vehicle):\n",
        "  def __init__(self,mileage,cost,type,hp):\n",
        "    super().__init__(mileage,cost)#over-riding init\n",
        "    self.type=type\n",
        "    self.hp=hp\n",
        "  def show_car_details(self):\n",
        "    print(\"i am a car\")\n",
        "    print(\"no.of tyres\",self.type)\n",
        "    print(\"the horse power\",self.hp)"
      ],
      "execution_count": null,
      "outputs": []
    },
    {
      "cell_type": "code",
      "metadata": {
        "id": "s3yfo0Sq8XKF"
      },
      "source": [
        "c=Car(30,30000,4,203)"
      ],
      "execution_count": null,
      "outputs": []
    },
    {
      "cell_type": "code",
      "metadata": {
        "id": "gIFBc45Z8gAo",
        "colab": {
          "base_uri": "https://localhost:8080/"
        },
        "outputId": "b9e12ebe-ed7d-411d-b20f-715914828bc1"
      },
      "source": [
        "c.show_details()"
      ],
      "execution_count": null,
      "outputs": [
        {
          "output_type": "stream",
          "text": [
            "iam a vehicle, i am in usper class\n",
            "i give a mileage of  30\n",
            "my cost is 30000\n"
          ],
          "name": "stdout"
        }
      ]
    },
    {
      "cell_type": "code",
      "metadata": {
        "colab": {
          "base_uri": "https://localhost:8080/"
        },
        "id": "WvzhR_aF-C95",
        "outputId": "59f03363-b0db-4869-c430-0d2657bbfc6b"
      },
      "source": [
        "c.show_car_details()"
      ],
      "execution_count": null,
      "outputs": [
        {
          "output_type": "stream",
          "text": [
            "i am a car\n",
            "no.of tyres 4\n",
            "the horse power 203\n"
          ],
          "name": "stdout"
        }
      ]
    },
    {
      "cell_type": "code",
      "metadata": {
        "id": "YoICpYJI-GBS"
      },
      "source": [
        "#multiple inheritance\n",
        "#p1->child<-p2\n",
        "class P1:\n",
        "  def ass_str(self,str):\n",
        "    self.str=str\n",
        "  def show_str(self):\n",
        "    print(\"the str is \",self.str)  "
      ],
      "execution_count": null,
      "outputs": []
    },
    {
      "cell_type": "code",
      "metadata": {
        "id": "ttjWzGXw_tbF"
      },
      "source": [
        "class P2:\n",
        "  def ass_str1(self,str1):\n",
        "    self.str1=str1\n",
        "  def show_str1(self):\n",
        "    print(\"the str1 is\",self.str1)  "
      ],
      "execution_count": null,
      "outputs": []
    },
    {
      "cell_type": "code",
      "metadata": {
        "id": "NxbvFoiB_7fK"
      },
      "source": [
        "class Child(P1,P2):\n",
        "  def ass_str2(self,str2):\n",
        "    self.str2=str2\n",
        "  def show_str2(self):\n",
        "    print(\"the str2 is \",self.str2)  \n"
      ],
      "execution_count": null,
      "outputs": []
    },
    {
      "cell_type": "code",
      "metadata": {
        "id": "jrVk2287APAn"
      },
      "source": [
        "c=Child()"
      ],
      "execution_count": null,
      "outputs": []
    },
    {
      "cell_type": "code",
      "metadata": {
        "id": "RRB4SbAOAXun"
      },
      "source": [
        "c.ass_str(\"sai\")"
      ],
      "execution_count": null,
      "outputs": []
    },
    {
      "cell_type": "code",
      "metadata": {
        "colab": {
          "base_uri": "https://localhost:8080/"
        },
        "id": "hWCYSsvEArWa",
        "outputId": "b883812b-f637-48c7-f14b-2845fbb5661a"
      },
      "source": [
        "c.show_str()"
      ],
      "execution_count": null,
      "outputs": [
        {
          "output_type": "stream",
          "text": [
            "the str is  sai\n"
          ],
          "name": "stdout"
        }
      ]
    },
    {
      "cell_type": "code",
      "metadata": {
        "id": "VoGc5LgbA6je"
      },
      "source": [
        "c.ass_str1(\"kumar\")"
      ],
      "execution_count": null,
      "outputs": []
    },
    {
      "cell_type": "code",
      "metadata": {
        "colab": {
          "base_uri": "https://localhost:8080/"
        },
        "id": "y0Y-IaZdA-9i",
        "outputId": "c36b7bca-a5ea-4aa6-9d56-6ae8e98eea17"
      },
      "source": [
        "c.show_str1()"
      ],
      "execution_count": null,
      "outputs": [
        {
          "output_type": "stream",
          "text": [
            "the str1 is kumar\n"
          ],
          "name": "stdout"
        }
      ]
    },
    {
      "cell_type": "code",
      "metadata": {
        "colab": {
          "base_uri": "https://localhost:8080/",
          "height": 279
        },
        "id": "pBFeGHJvBAxk",
        "outputId": "72acb98b-5b3b-4395-e8a5-4c45855c13e9"
      },
      "source": [
        "c.ass_str2(\"nayak\")"
      ],
      "execution_count": null,
      "outputs": [
        {
          "output_type": "error",
          "ename": "AttributeError",
          "evalue": "ignored",
          "traceback": [
            "\u001b[0;31m---------------------------------------------------------------------------\u001b[0m",
            "\u001b[0;31mAttributeError\u001b[0m                            Traceback (most recent call last)",
            "\u001b[0;32m<ipython-input-30-014520eba581>\u001b[0m in \u001b[0;36m<module>\u001b[0;34m()\u001b[0m\n\u001b[0;32m----> 1\u001b[0;31m \u001b[0mc\u001b[0m\u001b[0;34m.\u001b[0m\u001b[0mass_str2\u001b[0m\u001b[0;34m(\u001b[0m\u001b[0;34m\"nayak\"\u001b[0m\u001b[0;34m)\u001b[0m\u001b[0;34m\u001b[0m\u001b[0;34m\u001b[0m\u001b[0m\n\u001b[0m",
            "\u001b[0;32m<ipython-input-22-82ae7a64214b>\u001b[0m in \u001b[0;36mass_str2\u001b[0;34m(self, str2)\u001b[0m\n\u001b[1;32m      1\u001b[0m \u001b[0;32mclass\u001b[0m \u001b[0mChild\u001b[0m\u001b[0;34m(\u001b[0m\u001b[0mP1\u001b[0m\u001b[0;34m,\u001b[0m\u001b[0mP2\u001b[0m\u001b[0;34m)\u001b[0m\u001b[0;34m:\u001b[0m\u001b[0;34m\u001b[0m\u001b[0;34m\u001b[0m\u001b[0m\n\u001b[1;32m      2\u001b[0m   \u001b[0;32mdef\u001b[0m \u001b[0mass_str2\u001b[0m\u001b[0;34m(\u001b[0m\u001b[0mself\u001b[0m\u001b[0;34m,\u001b[0m\u001b[0mstr2\u001b[0m\u001b[0;34m)\u001b[0m\u001b[0;34m:\u001b[0m\u001b[0;34m\u001b[0m\u001b[0;34m\u001b[0m\u001b[0m\n\u001b[0;32m----> 3\u001b[0;31m     \u001b[0mself\u001b[0m\u001b[0;34m.\u001b[0m\u001b[0mstr2\u001b[0m\u001b[0;34m\u001b[0m\u001b[0;34m\u001b[0m\u001b[0m\n\u001b[0m\u001b[1;32m      4\u001b[0m   \u001b[0;32mdef\u001b[0m \u001b[0mshow_str2\u001b[0m\u001b[0;34m(\u001b[0m\u001b[0mself\u001b[0m\u001b[0;34m)\u001b[0m\u001b[0;34m:\u001b[0m\u001b[0;34m\u001b[0m\u001b[0;34m\u001b[0m\u001b[0m\n\u001b[1;32m      5\u001b[0m     \u001b[0mprint\u001b[0m\u001b[0;34m(\u001b[0m\u001b[0;34m\"the str2 is \"\u001b[0m\u001b[0;34m,\u001b[0m\u001b[0mself\u001b[0m\u001b[0;34m.\u001b[0m\u001b[0mstr2\u001b[0m\u001b[0;34m)\u001b[0m\u001b[0;34m\u001b[0m\u001b[0;34m\u001b[0m\u001b[0m\n",
            "\u001b[0;31mAttributeError\u001b[0m: 'Child' object has no attribute 'str2'"
          ]
        }
      ]
    },
    {
      "cell_type": "code",
      "metadata": {
        "id": "Pj4Uh_iIBDLD"
      },
      "source": [
        "#multilevel inheritance\n",
        "#parent->child->grandparent"
      ],
      "execution_count": null,
      "outputs": []
    },
    {
      "cell_type": "code",
      "metadata": {
        "id": "0ik07Su4CXVh"
      },
      "source": [
        "class Parent:\n",
        "  def name(self,name):\n",
        "    self.name=name\n",
        "  def show_name(self):\n",
        "    return self.name  "
      ],
      "execution_count": null,
      "outputs": []
    },
    {
      "cell_type": "code",
      "metadata": {
        "id": "__6-wVCnCp57"
      },
      "source": [
        "class Child(Parent):\n",
        "  def age(self,age):\n",
        "    self.age=age\n",
        "  def show_age(self):\n",
        "    return self.age  "
      ],
      "execution_count": null,
      "outputs": []
    },
    {
      "cell_type": "code",
      "metadata": {
        "id": "9t1KFn1KC0FW"
      },
      "source": [
        "class Gchild(Child):\n",
        "  def gender(self,gender):\n",
        "    self.gender=gender\n",
        "  def show_gender(self):\n",
        "    return self.gender  "
      ],
      "execution_count": null,
      "outputs": []
    },
    {
      "cell_type": "code",
      "metadata": {
        "id": "b46MJSNrDLpj"
      },
      "source": [
        "g=Gchild()"
      ],
      "execution_count": null,
      "outputs": []
    },
    {
      "cell_type": "code",
      "metadata": {
        "id": "SdiXqdMJDP7n"
      },
      "source": [
        "g.name(\"sai\")"
      ],
      "execution_count": null,
      "outputs": []
    },
    {
      "cell_type": "code",
      "metadata": {
        "colab": {
          "base_uri": "https://localhost:8080/",
          "height": 35
        },
        "id": "G1xpb0-uDSbl",
        "outputId": "e4da529c-2195-40a3-a60c-11870b3b0724"
      },
      "source": [
        "g.show_name()"
      ],
      "execution_count": null,
      "outputs": [
        {
          "output_type": "execute_result",
          "data": {
            "application/vnd.google.colaboratory.intrinsic+json": {
              "type": "string"
            },
            "text/plain": [
              "'sai'"
            ]
          },
          "metadata": {
            "tags": []
          },
          "execution_count": 38
        }
      ]
    },
    {
      "cell_type": "code",
      "metadata": {
        "id": "fRFkIYWpDVjo"
      },
      "source": [
        "g.age(24)"
      ],
      "execution_count": null,
      "outputs": []
    },
    {
      "cell_type": "code",
      "metadata": {
        "colab": {
          "base_uri": "https://localhost:8080/"
        },
        "id": "JgWas9eUEyRG",
        "outputId": "36303e31-57b0-458b-ea8b-9df262413d3c"
      },
      "source": [
        "g.show_age()"
      ],
      "execution_count": null,
      "outputs": [
        {
          "output_type": "execute_result",
          "data": {
            "text/plain": [
              "24"
            ]
          },
          "metadata": {
            "tags": []
          },
          "execution_count": 40
        }
      ]
    },
    {
      "cell_type": "code",
      "metadata": {
        "id": "cY3mgG9iE0lW"
      },
      "source": [
        "g.gender(\"male\")"
      ],
      "execution_count": null,
      "outputs": []
    },
    {
      "cell_type": "code",
      "metadata": {
        "colab": {
          "base_uri": "https://localhost:8080/",
          "height": 35
        },
        "id": "28NfDk8cE4ef",
        "outputId": "a8a31f3d-4299-4c8d-844b-971134f6ff21"
      },
      "source": [
        "g.show_gender()"
      ],
      "execution_count": null,
      "outputs": [
        {
          "output_type": "execute_result",
          "data": {
            "application/vnd.google.colaboratory.intrinsic+json": {
              "type": "string"
            },
            "text/plain": [
              "'male'"
            ]
          },
          "metadata": {
            "tags": []
          },
          "execution_count": 42
        }
      ]
    },
    {
      "cell_type": "code",
      "metadata": {
        "id": "KEmHWdJ9E6v7"
      },
      "source": [
        "def ex(a):\n",
        "  a=a+'2'\n",
        "  a=a*2\n",
        "  return a"
      ],
      "execution_count": null,
      "outputs": []
    },
    {
      "cell_type": "code",
      "metadata": {
        "colab": {
          "base_uri": "https://localhost:8080/",
          "height": 35
        },
        "id": "hMA8AKgLBne_",
        "outputId": "5dcf3c61-a715-4c26-a6dd-f94ac8fd62f1"
      },
      "source": [
        "ex(\"hello\")"
      ],
      "execution_count": null,
      "outputs": [
        {
          "output_type": "execute_result",
          "data": {
            "application/vnd.google.colaboratory.intrinsic+json": {
              "type": "string"
            },
            "text/plain": [
              "'hello2hello2'"
            ]
          },
          "metadata": {
            "tags": []
          },
          "execution_count": 2
        }
      ]
    },
    {
      "cell_type": "code",
      "metadata": {
        "colab": {
          "base_uri": "https://localhost:8080/"
        },
        "id": "hfpFB5lQBtIp",
        "outputId": "d4317697-b527-424a-f081-c40c14ba01cc"
      },
      "source": [
        "d={0:\"a\",1:\"b\",2:\"c\"}\n",
        "for x in d.keys():\n",
        "  print(d[x])"
      ],
      "execution_count": null,
      "outputs": [
        {
          "output_type": "stream",
          "text": [
            "a\n",
            "b\n",
            "c\n"
          ],
          "name": "stdout"
        }
      ]
    },
    {
      "cell_type": "code",
      "metadata": {
        "colab": {
          "base_uri": "https://localhost:8080/",
          "height": 195
        },
        "id": "fMYNhvXCC21u",
        "outputId": "9feaf48d-7c89-4259-b43b-14d76783d367"
      },
      "source": [
        "x=\"abcdef\"\n",
        "while i in x:\n",
        "  print(i,end=\"\")"
      ],
      "execution_count": null,
      "outputs": [
        {
          "output_type": "error",
          "ename": "NameError",
          "evalue": "ignored",
          "traceback": [
            "\u001b[0;31m---------------------------------------------------------------------------\u001b[0m",
            "\u001b[0;31mNameError\u001b[0m                                 Traceback (most recent call last)",
            "\u001b[0;32m<ipython-input-5-e6987269a3a8>\u001b[0m in \u001b[0;36m<module>\u001b[0;34m()\u001b[0m\n\u001b[1;32m      1\u001b[0m \u001b[0mx\u001b[0m\u001b[0;34m=\u001b[0m\u001b[0;34m\"abcdef\"\u001b[0m\u001b[0;34m\u001b[0m\u001b[0;34m\u001b[0m\u001b[0m\n\u001b[0;32m----> 2\u001b[0;31m \u001b[0;32mwhile\u001b[0m \u001b[0mi\u001b[0m \u001b[0;32min\u001b[0m \u001b[0mx\u001b[0m\u001b[0;34m:\u001b[0m\u001b[0;34m\u001b[0m\u001b[0;34m\u001b[0m\u001b[0m\n\u001b[0m\u001b[1;32m      3\u001b[0m   \u001b[0mprint\u001b[0m\u001b[0;34m(\u001b[0m\u001b[0mi\u001b[0m\u001b[0;34m,\u001b[0m\u001b[0mend\u001b[0m\u001b[0;34m=\u001b[0m\u001b[0;34m\"\"\u001b[0m\u001b[0;34m)\u001b[0m\u001b[0;34m\u001b[0m\u001b[0;34m\u001b[0m\u001b[0m\n",
            "\u001b[0;31mNameError\u001b[0m: name 'i' is not defined"
          ]
        }
      ]
    },
    {
      "cell_type": "code",
      "metadata": {
        "colab": {
          "base_uri": "https://localhost:8080/",
          "height": 178
        },
        "id": "LF9o6CzJDFDu",
        "outputId": "bc3c7f11-01c4-4d21-b9ed-a7e50df773c8"
      },
      "source": [
        "a=(1,2)\n",
        "a[0]+=1"
      ],
      "execution_count": null,
      "outputs": [
        {
          "output_type": "error",
          "ename": "TypeError",
          "evalue": "ignored",
          "traceback": [
            "\u001b[0;31m---------------------------------------------------------------------------\u001b[0m",
            "\u001b[0;31mTypeError\u001b[0m                                 Traceback (most recent call last)",
            "\u001b[0;32m<ipython-input-6-d9557c071e58>\u001b[0m in \u001b[0;36m<module>\u001b[0;34m()\u001b[0m\n\u001b[1;32m      1\u001b[0m \u001b[0ma\u001b[0m\u001b[0;34m=\u001b[0m\u001b[0;34m(\u001b[0m\u001b[0;36m1\u001b[0m\u001b[0;34m,\u001b[0m\u001b[0;36m2\u001b[0m\u001b[0;34m)\u001b[0m\u001b[0;34m\u001b[0m\u001b[0;34m\u001b[0m\u001b[0m\n\u001b[0;32m----> 2\u001b[0;31m \u001b[0ma\u001b[0m\u001b[0;34m[\u001b[0m\u001b[0;36m0\u001b[0m\u001b[0;34m]\u001b[0m\u001b[0;34m+=\u001b[0m\u001b[0;36m1\u001b[0m\u001b[0;34m\u001b[0m\u001b[0;34m\u001b[0m\u001b[0m\n\u001b[0m",
            "\u001b[0;31mTypeError\u001b[0m: 'tuple' object does not support item assignment"
          ]
        }
      ]
    },
    {
      "cell_type": "code",
      "metadata": {
        "id": "tWh9IhwgDXFT"
      },
      "source": [
        ""
      ],
      "execution_count": null,
      "outputs": []
    }
  ]
}